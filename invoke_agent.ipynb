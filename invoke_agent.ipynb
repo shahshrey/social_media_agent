{
 "cells": [
  {
   "cell_type": "code",
   "execution_count": null,
   "metadata": {},
   "outputs": [],
   "source": [
    "from backend.agent import workflow, AgentState\n",
    "from uuid import uuid4\n",
    "from langchain_core.messages import HumanMessage\n",
    "\n",
    "result = None\n",
    "config = {\"configurable\": {\"thread_id\": uuid4()}}\n",
    "default = AgentState()\n",
    "default.messages.append(\n",
    "    HumanMessage(content=\"Create a post from reddit, just focus on the topic discussed.\")\n",
    ")\n",
    "while True:\n",
    "    result = await workflow.ainvoke(input=result if result else default, config=config)\n",
    "    next = input(result[\"messages\"][-1].content)\n",
    "    result[\"messages\"].append(HumanMessage(content=next))"
   ]
  }
 ],
 "metadata": {
  "kernelspec": {
   "display_name": ".venv",
   "language": "python",
   "name": "python3"
  },
  "language_info": {
   "codemirror_mode": {
    "name": "ipython",
    "version": 3
   },
   "file_extension": ".py",
   "mimetype": "text/x-python",
   "name": "python",
   "nbconvert_exporter": "python",
   "pygments_lexer": "ipython3",
   "version": "3.11.8"
  }
 },
 "nbformat": 4,
 "nbformat_minor": 2
}
